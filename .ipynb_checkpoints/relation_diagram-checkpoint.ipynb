{
 "cells": [
  {
   "cell_type": "code",
   "execution_count": 1,
   "metadata": {},
   "outputs": [],
   "source": [
    "import numpy as np\n",
    "import pandas as pd\n",
    "import nltk\n",
    "import re\n",
    "from nltk.corpus import wordnet\n",
    "import string\n",
    "from nltk.corpus import stopwords\n",
    "from collections import Counter\n",
    "stop_words = stopwords.words('english')\n",
    "import networkx as nx\n",
    "import matplotlib.pyplot as plt\n",
    "%matplotlib inline"
   ]
  },
  {
   "cell_type": "code",
   "execution_count": 2,
   "metadata": {},
   "outputs": [],
   "source": [
    "def file_open(path):\n",
    "    print('Start read data from file')\n",
    "    input_read = pd.read_excel(path) \n",
    "    df = pd.DataFrame(input_read)\n",
    "    print('Read data')\n",
    "    return df"
   ]
  },
  {
   "cell_type": "code",
   "execution_count": 3,
   "metadata": {},
   "outputs": [],
   "source": [
    "def relation_data(path):\n",
    "    res = []\n",
    "    df = file_open(path)\n",
    "    for index,data in enumerate(df[\"issue_ID\"],start=1):\n",
    "        if index == df.shape[0]:\n",
    "            break\n",
    "        if df[\"issue_ID\"][index]== df[\"issue_ID\"][index-1]:\n",
    "            if df[\"commenter\"][index-1] != df[\"commenter\"][index]:\n",
    "                res.append((df[\"commenter\"][index-1],df[\"commenter\"][index]))\n",
    "    return res"
   ]
  },
  {
   "cell_type": "code",
   "execution_count": 4,
   "metadata": {},
   "outputs": [],
   "source": [
    "def node_list(path):\n",
    "    df = file_open(path)\n",
    "   \n",
    "    return set(df[\"commenter\"])"
   ]
  },
  {
   "cell_type": "code",
   "execution_count": 5,
   "metadata": {},
   "outputs": [],
   "source": [
    "def relation_data_sorted(path):\n",
    "    res = []\n",
    "    df = file_open(path)\n",
    "      \n",
    "    for index,data in enumerate(df[\"issue_ID\"],start=1):\n",
    "        if index == df.shape[0]:\n",
    "            break\n",
    "        if df[\"issue_ID\"][index]== df[\"issue_ID\"][index-1]:\n",
    "            if df[\"commenter\"][index-1] != df[\"commenter\"][index]:\n",
    "                res.append((df[\"commenter\"][index-1],df[\"commenter\"][index]))\n",
    "    \n",
    "    return [tuple(sorted(i)) for i in res]"
   ]
  },
  {
   "cell_type": "code",
   "execution_count": 6,
   "metadata": {},
   "outputs": [],
   "source": [
    "def draw_graph(dict):\n",
    "    G=nx.random_geometric_graph(1000,0.125)\n",
    "    pos=nx.get_node_attributes(G,'pos')\n",
    "    dmin=1\n",
    "    ncenter=0\n",
    "    for n in pos:\n",
    "        x,y=pos[n]\n",
    "        d=(x-0.5)**2+(y-0.5)**2\n",
    "        if d<dmin:\n",
    "            ncenter=n\n",
    "            dmin=d\n",
    "    p=nx.single_source_shortest_path_length(G,ncenter)\n",
    "    plt.figure(figsize=(10,10))\n",
    "    nx.draw_networkx_edges(G,pos,nodelist=[ncenter],alpha=0.4)\n",
    "    nx.draw_networkx_nodes(G,pos,nodelist=dict.keys(),\n",
    "                       node_size=80,\n",
    "                       node_color=dict.values(),\n",
    "                       cmap=plt.cm.Reds_r)\n",
    "\n",
    "    "
   ]
  },
  {
   "cell_type": "code",
   "execution_count": 7,
   "metadata": {},
   "outputs": [
    {
     "name": "stdout",
     "output_type": "stream",
     "text": [
      "Start read data from file\n",
      "Read data\n",
      "Start read data from file\n",
      "Read data\n",
      "Start read data from file\n",
      "Read data\n"
     ]
    }
   ],
   "source": [
    "path = \"data\\closed_comment.xlsx\"\n",
    "a = relation_data(path)\n",
    "b = relation_data_sorted(path)\n",
    "c = Counter(a)\n",
    "d = node_list(path)\n"
   ]
  },
  {
   "cell_type": "code",
   "execution_count": 51,
   "metadata": {
    "scrolled": true
   },
   "outputs": [
    {
     "data": {
      "text/plain": [
       "['Ayms',\n",
       " 'e-nexus',\n",
       " 'vinnyvoo',\n",
       " 'SearchAndDestroy',\n",
       " 'NickyYangYang',\n",
       " 'TheBlueMatt',\n",
       " 'funasty1985',\n",
       " 'melaxon',\n",
       " 'wuchiachih',\n",
       " 'nopara73',\n",
       " 'DianJakaWidiawan',\n",
       " 'LucaPaterlini',\n",
       " 'jnewbery',\n",
       " 'FIVIL',\n",
       " 'jmcorgan',\n",
       " 'azetrom',\n",
       " 'sangaman',\n",
       " 'practicalswift',\n",
       " 'GusevVasily',\n",
       " 'jb55',\n",
       " 'sergeyklay',\n",
       " 'sipa',\n",
       " 'h4x3rotab',\n",
       " 'alexeyneu',\n",
       " 'molxyz',\n",
       " 'ryanofsky',\n",
       " 'crowdcoinChain',\n",
       " 'eserlxl',\n",
       " 'cryptozeny',\n",
       " 'isghe',\n",
       " 'efvhi',\n",
       " 'mmortal03',\n",
       " 'domob1812',\n",
       " 'DinoStray',\n",
       " 'sanjays95',\n",
       " 'giaki3003',\n",
       " 'MeshCollider',\n",
       " 'jtimon',\n",
       " 'sdaftuar',\n",
       " 'nkostoulas',\n",
       " 'NicolasDorier',\n",
       " 'theuni',\n",
       " 'bekarys0504',\n",
       " 'yzhou61',\n",
       " 'adminstratio',\n",
       " 'dmchess',\n",
       " 'barryton999',\n",
       " 'hamnaz',\n",
       " 'syrius01',\n",
       " 'ZexiFangkong',\n",
       " 'kirillkovalenko',\n",
       " 'scravy',\n",
       " 'Derek701',\n",
       " 'ch4ot1c',\n",
       " 'kallewoof',\n",
       " 'MarcoFalke',\n",
       " 'achow101',\n",
       " 'ReneFroger',\n",
       " 'fanquake',\n",
       " 'Sjors',\n",
       " '3s3s',\n",
       " 'marcoagner',\n",
       " 'alexander7567',\n",
       " 'leishman',\n",
       " 'sipsorcery',\n",
       " 'unixb0y',\n",
       " 'RHavar',\n",
       " 'Empact',\n",
       " 'sanket1729',\n",
       " 'promag',\n",
       " 'coinsmith',\n",
       " 'kristapsk',\n",
       " 'AkioNak',\n",
       " 'bunnguyen2410',\n",
       " 'Crypto2',\n",
       " 'assafadar',\n",
       " 'luke-jr',\n",
       " 'jamesob',\n",
       " 'laanwj',\n",
       " 'StayCoolDK',\n",
       " 'ohhmm',\n",
       " 'Ali8668',\n",
       " 'ken2812221',\n",
       " 'greenaddress',\n",
       " 'msgilligan',\n",
       " 'al-maisan',\n",
       " 'rhinogroup',\n",
       " 'thelukemccarthy',\n",
       " 'underdarkskies',\n",
       " 'jonasschnelli',\n",
       " 'DocOBITCOIN',\n",
       " 'teknari']"
      ]
     },
     "execution_count": 51,
     "metadata": {},
     "output_type": "execute_result"
    }
   ],
   "source": [
    "list(d)"
   ]
  },
  {
   "cell_type": "code",
   "execution_count": 52,
   "metadata": {},
   "outputs": [],
   "source": [
    "c_directed = Counter(a)    #directed relation  ex: [a,b] != [b,a]\n",
    "c_undirected = Counter(b)   #undirected relation  ex: [a,b] == [b,a]"
   ]
  },
  {
   "cell_type": "code",
   "execution_count": null,
   "metadata": {},
   "outputs": [],
   "source": [
    "\n",
    "dit = {'node':list(d)}\n",
    "df = pd.DataFrame(dit)\n",
    "#columns参数用于指定生成的excel中列的顺序\n",
    "df.to_csv(r'node.csv',columns=['node'],index=False,sep=',')"
   ]
  },
  {
   "cell_type": "code",
   "execution_count": null,
   "metadata": {},
   "outputs": [],
   "source": []
  }
 ],
 "metadata": {
  "kernelspec": {
   "display_name": "Python 3",
   "language": "python",
   "name": "python3"
  },
  "language_info": {
   "codemirror_mode": {
    "name": "ipython",
    "version": 3
   },
   "file_extension": ".py",
   "mimetype": "text/x-python",
   "name": "python",
   "nbconvert_exporter": "python",
   "pygments_lexer": "ipython3",
   "version": "3.7.1"
  }
 },
 "nbformat": 4,
 "nbformat_minor": 2
}
